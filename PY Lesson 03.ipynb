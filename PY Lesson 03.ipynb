{
 "cells": [
  {
   "cell_type": "markdown",
   "id": "27821f0b-b6f1-42ed-beba-5869d6d21043",
   "metadata": {},
   "source": [
    "# Tuples"
   ]
  },
  {
   "cell_type": "code",
   "execution_count": null,
   "id": "d60f3a53-a040-402b-93b3-9b49f0f68037",
   "metadata": {},
   "outputs": [],
   "source": [
    "tup1 = (10, 20, 30, 40)\n",
    "tup2 = \"a\", \"b\", \"c\""
   ]
  },
  {
   "cell_type": "markdown",
   "id": "8e6b5dd7-1e33-47ea-aa3c-13609280d6ed",
   "metadata": {},
   "source": [
    "#### tuples cannot update"
   ]
  },
  {
   "cell_type": "code",
   "execution_count": 1,
   "id": "b0beae5f-9a44-4054-815e-c9ff74319db6",
   "metadata": {},
   "outputs": [
    {
     "ename": "TypeError",
     "evalue": "'tuple' object does not support item assignment",
     "output_type": "error",
     "traceback": [
      "\u001b[1;31m---------------------------------------------------------------------------\u001b[0m",
      "\u001b[1;31mTypeError\u001b[0m                                 Traceback (most recent call last)",
      "Cell \u001b[1;32mIn[1], line 3\u001b[0m\n\u001b[0;32m      1\u001b[0m tup1 \u001b[38;5;241m=\u001b[39m (\u001b[38;5;241m10\u001b[39m, \u001b[38;5;241m20\u001b[39m, \u001b[38;5;241m30\u001b[39m, \u001b[38;5;241m40\u001b[39m)\n\u001b[1;32m----> 3\u001b[0m tup1[\u001b[38;5;241m0\u001b[39m] \u001b[38;5;241m=\u001b[39m \u001b[38;5;241m100\u001b[39m\n\u001b[0;32m      4\u001b[0m \u001b[38;5;28mprint\u001b[39m(tup1)\n",
      "\u001b[1;31mTypeError\u001b[0m: 'tuple' object does not support item assignment"
     ]
    }
   ],
   "source": [
    "tup1 = (10, 20, 30, 40)\n",
    "\n",
    "tup1[0] = 100\n",
    "print(tup1)"
   ]
  },
  {
   "cell_type": "code",
   "execution_count": 2,
   "id": "245808a1-40af-47ef-a4e2-3e5e4e7ac4e7",
   "metadata": {},
   "outputs": [
    {
     "ename": "AttributeError",
     "evalue": "'tuple' object has no attribute 'append'",
     "output_type": "error",
     "traceback": [
      "\u001b[1;31m---------------------------------------------------------------------------\u001b[0m",
      "\u001b[1;31mAttributeError\u001b[0m                            Traceback (most recent call last)",
      "Cell \u001b[1;32mIn[2], line 3\u001b[0m\n\u001b[0;32m      1\u001b[0m tup1 \u001b[38;5;241m=\u001b[39m (\u001b[38;5;241m10\u001b[39m, \u001b[38;5;241m20\u001b[39m, \u001b[38;5;241m30\u001b[39m, \u001b[38;5;241m40\u001b[39m)\n\u001b[1;32m----> 3\u001b[0m tup1\u001b[38;5;241m.\u001b[39mappend(\u001b[38;5;241m100\u001b[39m) \n\u001b[0;32m      4\u001b[0m \u001b[38;5;28mprint\u001b[39m(tup1)\n",
      "\u001b[1;31mAttributeError\u001b[0m: 'tuple' object has no attribute 'append'"
     ]
    }
   ],
   "source": [
    "tup1 = (10, 20, 30, 40)\n",
    "\n",
    "tup1.append(100) \n",
    "print(tup1)"
   ]
  },
  {
   "cell_type": "code",
   "execution_count": 3,
   "id": "84fb52ad-b2e2-4a72-8b94-14396b2f8802",
   "metadata": {},
   "outputs": [
    {
     "name": "stdout",
     "output_type": "stream",
     "text": [
      "(10, 20, 30, 40, 'Srishan', 'intern', 'Software')\n"
     ]
    }
   ],
   "source": [
    "tup1 = (10, 20, 30, 40) \n",
    "tup2 = (\"Srishan\", \"intern\", \"Software\")\n",
    "\n",
    "tup3 = tup1 + tup2\n",
    "\n",
    "print(tup3)\n",
    "\n"
   ]
  },
  {
   "cell_type": "markdown",
   "id": "129af3a4-9215-4ca9-bc8e-43ac63063592",
   "metadata": {},
   "source": [
    "#### convert tuple in to list"
   ]
  },
  {
   "cell_type": "code",
   "execution_count": 5,
   "id": "478a3046-219c-4b27-98fb-b9508da4b2f3",
   "metadata": {},
   "outputs": [
    {
     "name": "stdout",
     "output_type": "stream",
     "text": [
      "[10, 20, 30, 40, 100]\n"
     ]
    }
   ],
   "source": [
    "tup1 = (10, 20, 30, 40)\n",
    "myList = list(tup1)\n",
    "\n",
    "myList.append(100)\n",
    "print(myList)"
   ]
  },
  {
   "cell_type": "code",
   "execution_count": null,
   "id": "d6e6d104-0427-41cf-b372-1e6649aeb57e",
   "metadata": {},
   "outputs": [],
   "source": []
  }
 ],
 "metadata": {
  "kernelspec": {
   "display_name": "Python 3 (ipykernel)",
   "language": "python",
   "name": "python3"
  },
  "language_info": {
   "codemirror_mode": {
    "name": "ipython",
    "version": 3
   },
   "file_extension": ".py",
   "mimetype": "text/x-python",
   "name": "python",
   "nbconvert_exporter": "python",
   "pygments_lexer": "ipython3",
   "version": "3.13.5"
  }
 },
 "nbformat": 4,
 "nbformat_minor": 5
}
