{
 "cells": [
  {
   "cell_type": "markdown",
   "id": "a187837e-6e87-4dfe-8e83-0e6e8da0715d",
   "metadata": {},
   "source": [
    "# Lists"
   ]
  },
  {
   "cell_type": "code",
   "execution_count": 1,
   "id": "94ae1009-3143-431b-8d91-d6072f2998ff",
   "metadata": {},
   "outputs": [
    {
     "name": "stdout",
     "output_type": "stream",
     "text": [
      "20.5\n",
      "[20.5, 'Srishan']\n",
      "['Srishan', 'Python', 50, 100]\n"
     ]
    }
   ],
   "source": [
    "myList = [10, 20.5, \"Srishan\", \"Python\", 50, 100]\n",
    "\n",
    "print(myList[1])\n",
    "print(myList[1:3])\n",
    "print(myList[2:])"
   ]
  },
  {
   "cell_type": "markdown",
   "id": "6f2e2d48-425a-4171-9697-413284abff7e",
   "metadata": {},
   "source": [
    "##### Update List"
   ]
  },
  {
   "cell_type": "code",
   "execution_count": 2,
   "id": "53f88cc3-bc2f-4696-a798-f69cd4ec111d",
   "metadata": {},
   "outputs": [
    {
     "name": "stdout",
     "output_type": "stream",
     "text": [
      "Current Value: 50\n",
      "Updated Value: 1000\n"
     ]
    }
   ],
   "source": [
    "myList = [10, 20.5, \"Srishan\", \"Python\", 50, 100]\n",
    "\n",
    "print('Current Value:', myList[4])\n",
    "myList[4]=1000\n",
    "print('Updated Value:',myList[4])"
   ]
  },
  {
   "cell_type": "markdown",
   "id": "4380822d-a78a-4e86-99e9-172a75055f3d",
   "metadata": {},
   "source": [
    "##### Delete List"
   ]
  },
  {
   "cell_type": "code",
   "execution_count": 3,
   "id": "c88c6541-9ab3-41fe-96e6-fd0854d7b773",
   "metadata": {},
   "outputs": [
    {
     "name": "stdout",
     "output_type": "stream",
     "text": [
      "Modified List: [10, 20.5, 'Srishan', 50, 100]\n"
     ]
    }
   ],
   "source": [
    "myList = [10, 20.5, \"Srishan\", \"Python\", 50, 100]\n",
    "del myList[3]\n",
    "print('Modified List:', myList)"
   ]
  },
  {
   "cell_type": "markdown",
   "id": "c9e4bfc8-bdae-4b4f-b9da-0e0cfd316540",
   "metadata": {},
   "source": [
    "##### Functions"
   ]
  },
  {
   "cell_type": "code",
   "execution_count": 5,
   "id": "8914a9a2-146b-4dc6-9ebd-9d538b6f3cfc",
   "metadata": {},
   "outputs": [
    {
     "name": "stdout",
     "output_type": "stream",
     "text": [
      "6\n",
      "882\n",
      "10\n",
      "1462.5\n"
     ]
    }
   ],
   "source": [
    "myList = [10, 20.5, 400, 882, 50, 100]\n",
    "\n",
    "print(len(myList))\n",
    "print(max(myList))\n",
    "print(min(myList))\n",
    "print(sum(myList))"
   ]
  },
  {
   "cell_type": "code",
   "execution_count": 7,
   "id": "bb986fdb-8d40-49b4-a0dd-02d5bc93f602",
   "metadata": {},
   "outputs": [
    {
     "name": "stdout",
     "output_type": "stream",
     "text": [
      "3\n",
      "3\n",
      "1017\n",
      "550\n",
      "120\n"
     ]
    }
   ],
   "source": [
    "list1, list2=[20,50,47], [100,500,300]\n",
    "\n",
    "print(len(list1))\n",
    "print(len(list2))\n",
    "\n",
    "print(sum(list1)+ sum(list2) )\n",
    "print(max(list1)+ max(list2) )\n",
    "print(min(list1)+ min(list2) )"
   ]
  },
  {
   "cell_type": "code",
   "execution_count": 8,
   "id": "93d0e15c-432b-4fb6-826c-247431a87ac2",
   "metadata": {},
   "outputs": [
    {
     "name": "stdout",
     "output_type": "stream",
     "text": [
      "[0, 1, 2, 3, 4, 5, 6, 7, 8, 9]\n"
     ]
    }
   ],
   "source": [
    "list = list(range(10))\n",
    "print(list)"
   ]
  },
  {
   "cell_type": "code",
   "execution_count": 15,
   "id": "642954e2-ca81-489d-91e6-6dfd3bb50870",
   "metadata": {},
   "outputs": [
    {
     "name": "stdout",
     "output_type": "stream",
     "text": [
      "3\n",
      "Srishan\n",
      "Machine Learning\n"
     ]
    }
   ],
   "source": [
    "myList = [ \"Python\", \"Srishan\",  \"Machine Learning\"]\n",
    "\n",
    "print(len(myList))\n",
    "print(max(myList))\n",
    "print(min(myList))\n"
   ]
  },
  {
   "cell_type": "markdown",
   "id": "a0441f17-5235-4b79-b5a3-83fda7352417",
   "metadata": {
    "jp-MarkdownHeadingCollapsed": true
   },
   "source": [
    "#### max(myList)\n",
    "\n",
    "max() returns the largest element in the list.\n",
    "\n",
    "But since this is a list of strings, Python compares them alphabetically (lexicographically) based on Unicode/ASCII values.\n",
    "\n",
    "Order check:\n",
    "\n",
    "\"Machine Learning\" (starts with \"M\")\n",
    "\n",
    "\"Python\" (starts with \"P\")\n",
    "\n",
    "\"Srishan\" (starts with \"S\")\n",
    "\n",
    "👉 Alphabetically, \"Srishan\" comes last.\n",
    "👉 Output: \"Srishan\"\n",
    "\n",
    "####  min(myList)\n",
    "\n",
    "Similarly, min() returns the smallest element alphabetically.\n",
    "\n",
    "\"Machine Learning\" (M) comes before \"Python\" (P) and \"Srishan\" (S).\n",
    "👉 Output: \"Machine Learning\""
   ]
  },
  {
   "cell_type": "markdown",
   "id": "480b318d-092d-4724-95c5-e5940b247eca",
   "metadata": {},
   "source": [
    "### appened()\n"
   ]
  },
  {
   "cell_type": "code",
   "execution_count": 16,
   "id": "a3a8236a-97c1-4a6d-bdcd-b491cd8a6007",
   "metadata": {},
   "outputs": [
    {
     "name": "stdout",
     "output_type": "stream",
     "text": [
      "['Python', 'Srishan', 'Machine Learning', 'Jupyter Notebook']\n"
     ]
    }
   ],
   "source": [
    "myList = [ \"Python\", \"Srishan\",  \"Machine Learning\"]\n",
    "\n",
    "myList.append(\"Jupyter Notebook\")\n",
    "print(myList)"
   ]
  },
  {
   "cell_type": "markdown",
   "id": "db3c9d9f-26d4-4af7-bd72-98e41d8a922f",
   "metadata": {},
   "source": [
    "### count()"
   ]
  },
  {
   "cell_type": "code",
   "execution_count": 18,
   "id": "13800934-88a3-4a96-9c42-caf89d42848a",
   "metadata": {},
   "outputs": [
    {
     "name": "stdout",
     "output_type": "stream",
     "text": [
      "3\n"
     ]
    }
   ],
   "source": [
    "myList = [123, \"zoo\", \"Bee\", 123, \"See\", 123]\n",
    "\n",
    "print(myList.count(123))"
   ]
  },
  {
   "cell_type": "markdown",
   "id": "5b5fa170-0ab5-47b0-8f9b-1f33c6ac6446",
   "metadata": {},
   "source": [
    "### extend()"
   ]
  },
  {
   "cell_type": "code",
   "execution_count": 19,
   "id": "b2c1bab0-c7da-442a-81a2-9e1d0878a632",
   "metadata": {},
   "outputs": [
    {
     "name": "stdout",
     "output_type": "stream",
     "text": [
      "[123, 'zoo', 'Bee', 123, 'See', 123, 100, 500, 300]\n"
     ]
    }
   ],
   "source": [
    "myList = [123, \"zoo\", \"Bee\", 123, \"See\", 123]\n",
    "list2 = [100,500,300]\n",
    "\n",
    "myList.extend(list2)\n",
    "print(myList)"
   ]
  },
  {
   "cell_type": "markdown",
   "id": "7a02a138-4360-4741-bada-463b16e2bfa5",
   "metadata": {},
   "source": [
    "### index()"
   ]
  },
  {
   "cell_type": "code",
   "execution_count": 22,
   "id": "5985b3e8-1be4-4ee8-b866-474bbea054c7",
   "metadata": {},
   "outputs": [
    {
     "name": "stdout",
     "output_type": "stream",
     "text": [
      "2\n"
     ]
    }
   ],
   "source": [
    "myList = [ \"Python\", \"Srishan\",  \"Machine Learning\"]\n",
    "\n",
    "print(myList.index(\"Machine Learning\"))"
   ]
  },
  {
   "cell_type": "markdown",
   "id": "e39dfc0b-168b-41ae-bc60-e172218d94e0",
   "metadata": {},
   "source": [
    "### pop()"
   ]
  },
  {
   "cell_type": "code",
   "execution_count": 23,
   "id": "f40bdaf4-3480-4c95-9390-a9660b0620b4",
   "metadata": {},
   "outputs": [
    {
     "name": "stdout",
     "output_type": "stream",
     "text": [
      "['Python', 'Srishan', 'Machine Learning']\n",
      "['Python', 'Machine Learning']\n"
     ]
    }
   ],
   "source": [
    "myList = [ \"Python\", \"Srishan\",  \"Machine Learning\", \"Artificial Intelligiance\"]\n",
    "\n",
    "myList.pop()\n",
    "print(myList)\n",
    "\n",
    "myList.pop(1)\n",
    "print(myList)"
   ]
  },
  {
   "cell_type": "markdown",
   "id": "f3e4c73d-413f-485e-8502-a75895c197d0",
   "metadata": {},
   "source": [
    "### remove()"
   ]
  },
  {
   "cell_type": "code",
   "execution_count": 25,
   "id": "6d438228-a259-478c-a56b-2eb47f608b0a",
   "metadata": {},
   "outputs": [
    {
     "name": "stdout",
     "output_type": "stream",
     "text": [
      "['Python', 'Machine Learning', 'Artificial Intelligiance']\n"
     ]
    }
   ],
   "source": [
    "myList = [ \"Python\", \"Srishan\",  \"Machine Learning\", \"Artificial Intelligiance\"]\n",
    "\n",
    "myList.remove(\"Srishan\")\n",
    "print(myList)"
   ]
  },
  {
   "cell_type": "markdown",
   "id": "7c02cb27-d859-4cc6-a532-568228f90ed3",
   "metadata": {},
   "source": [
    "### reverse()"
   ]
  },
  {
   "cell_type": "code",
   "execution_count": 29,
   "id": "39d01b11-7e66-47e6-b520-f1d5da0392d9",
   "metadata": {},
   "outputs": [
    {
     "name": "stdout",
     "output_type": "stream",
     "text": [
      "['Artificial Intelligiance', 'Machine Learning', 'Srishan', 'Python']\n"
     ]
    }
   ],
   "source": [
    "myList = [ \"Python\", \"Srishan\",  \"Machine Learning\", \"Artificial Intelligiance\"]\n",
    "\n",
    "myList.reverse()\n",
    "\n",
    "print(myList)"
   ]
  },
  {
   "cell_type": "markdown",
   "id": "a69b97c7-3ffc-4234-89ec-e74d687c2264",
   "metadata": {},
   "source": [
    "### sort()"
   ]
  },
  {
   "cell_type": "code",
   "execution_count": 34,
   "id": "ba6f7b4c-7cfb-4424-9c63-bc8c97d91bac",
   "metadata": {},
   "outputs": [
    {
     "name": "stdout",
     "output_type": "stream",
     "text": [
      "['Biology', 'Chemistry', 'Maths', 'Physics']\n",
      "['Biology', 'Chemistry', 'Maths', 'Physics']\n",
      "['Physics', 'Maths', 'Chemistry', 'Biology']\n"
     ]
    }
   ],
   "source": [
    "myList = [\"Chemistry\", \"Physics\", \"Maths\", \"Biology\"]\n",
    "\n",
    "myList.sort()\n",
    "print(myList)\n",
    "\n",
    "myList.sort(reverse = False)\n",
    "print(myList)\n",
    "\n",
    "myList.sort(reverse = True)\n",
    "print(myList)"
   ]
  }
 ],
 "metadata": {
  "kernelspec": {
   "display_name": "Python 3 (ipykernel)",
   "language": "python",
   "name": "python3"
  },
  "language_info": {
   "codemirror_mode": {
    "name": "ipython",
    "version": 3
   },
   "file_extension": ".py",
   "mimetype": "text/x-python",
   "name": "python",
   "nbconvert_exporter": "python",
   "pygments_lexer": "ipython3",
   "version": "3.13.5"
  }
 },
 "nbformat": 4,
 "nbformat_minor": 5
}
