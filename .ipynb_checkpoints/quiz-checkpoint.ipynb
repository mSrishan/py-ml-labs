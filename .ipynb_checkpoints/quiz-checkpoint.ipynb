{
 "cells": [
  {
   "cell_type": "markdown",
   "id": "3945be75-c3ae-485c-a8d8-dcc21eae4e68",
   "metadata": {},
   "source": [
    "## QUIZ 01"
   ]
  },
  {
   "cell_type": "code",
   "execution_count": 1,
   "id": "165fecb9-5a0b-4386-9bd9-045f5bee94d4",
   "metadata": {},
   "outputs": [
    {
     "name": "stdin",
     "output_type": "stream",
     "text": [
      "Enter Value1 : 10\n",
      "Enter Value2 : 7\n"
     ]
    },
    {
     "name": "stdout",
     "output_type": "stream",
     "text": [
      "Addition : 17\n",
      "Substraction : 3\n",
      "Multiplication : 70\n",
      "Division : 1.4285714285714286\n",
      "Modulus : 3\n",
      "Exponnt : 10000000\n"
     ]
    }
   ],
   "source": [
    "X = eval(input('Enter Value1 :'))\n",
    "Y = eval(input('Enter Value2 :'))\n",
    "\n",
    "print('Addition :', X+Y)\n",
    "print('Substraction :', X-Y)\n",
    "print('Multiplication :', X*Y)\n",
    "print('Division :', X/Y)\n",
    "print('Modulus :', X%Y)\n",
    "print('Exponnt :', X**Y)"
   ]
  }
 ],
 "metadata": {
  "kernelspec": {
   "display_name": "Python 3 (ipykernel)",
   "language": "python",
   "name": "python3"
  },
  "language_info": {
   "codemirror_mode": {
    "name": "ipython",
    "version": 3
   },
   "file_extension": ".py",
   "mimetype": "text/x-python",
   "name": "python",
   "nbconvert_exporter": "python",
   "pygments_lexer": "ipython3",
   "version": "3.13.5"
  }
 },
 "nbformat": 4,
 "nbformat_minor": 5
}
