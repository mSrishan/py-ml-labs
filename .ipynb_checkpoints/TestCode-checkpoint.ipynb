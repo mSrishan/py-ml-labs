{
 "cells": [
  {
   "cell_type": "code",
   "execution_count": 1,
   "id": "cc0f9cfe-e72b-4b71-93df-a9d870302fd0",
   "metadata": {},
   "outputs": [],
   "source": [
    " x=10\n",
    "y=20"
   ]
  },
  {
   "cell_type": "code",
   "execution_count": 2,
   "id": "21cb6519-4a19-42ee-ad88-2bd9142b4cb2",
   "metadata": {},
   "outputs": [
    {
     "name": "stdout",
     "output_type": "stream",
     "text": [
      "10 20\n"
     ]
    }
   ],
   "source": [
    "print(x, y)"
   ]
  },
  {
   "cell_type": "code",
   "execution_count": 9,
   "id": "dee99fa9-9339-48c6-b888-6087dafb7942",
   "metadata": {},
   "outputs": [
    {
     "name": "stdout",
     "output_type": "stream",
     "text": [
      "l\n",
      "lo Wor\n",
      "Hello World!Hello World!\n",
      "Hello World Srishan!\n"
     ]
    }
   ],
   "source": [
    "myStr = \"Hello World!\"\n",
    "\n",
    "print(myStr[2])\n",
    "print(myStr[3:9])\n",
    "print(myStr*2)\n",
    "print(myStr[0:11] + \" Srishan\"+ myStr[11])"
   ]
  },
  {
   "cell_type": "code",
   "execution_count": null,
   "id": "84ebaaa8-96a4-4a30-8676-11bf233caa39",
   "metadata": {},
   "outputs": [],
   "source": []
  }
 ],
 "metadata": {
  "kernelspec": {
   "display_name": "Python 3 (ipykernel)",
   "language": "python",
   "name": "python3"
  },
  "language_info": {
   "codemirror_mode": {
    "name": "ipython",
    "version": 3
   },
   "file_extension": ".py",
   "mimetype": "text/x-python",
   "name": "python",
   "nbconvert_exporter": "python",
   "pygments_lexer": "ipython3",
   "version": "3.13.5"
  }
 },
 "nbformat": 4,
 "nbformat_minor": 5
}
